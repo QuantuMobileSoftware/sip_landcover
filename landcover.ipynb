{
 "cells": [
  {
   "cell_type": "code",
   "execution_count": null,
   "metadata": {},
   "outputs": [],
   "source": [
    "import os\n",
    "import json\n",
    "import time\n",
    "import shutil\n",
    "import rasterio\n",
    "import urllib.request\n",
    "import shapely\n",
    "import numpy as np\n",
    "import geopandas as gpd\n",
    "import matplotlib.pylab as plt\n",
    "\n",
    "from utils import crop_raster, merge_tiles, stitch_tiles, get_tiles\n",
    "\n",
    "import warnings\n",
    "warnings.filterwarnings('ignore')"
   ]
  },
  {
   "cell_type": "code",
   "execution_count": null,
   "metadata": {},
   "outputs": [],
   "source": [
    "START_DATE = os.getenv('START_DATE', '2016-05-01')\n",
    "END_DATE = os.getenv('END_DATE', '2023-06-30')\n",
    "AOI = os.getenv('AOI', 'POLYGON ((-85.299088 40.339368, -85.332047 40.241477, -85.134979 40.229427, -85.157639 40.34146, -85.299088 40.339368))')\n",
    "# AOI = os.getenv('AOI', 'MULTIPOLYGON (((-110.49367408906883 39.1005200348037, -110.20673076923077 39.1005200348037, -110.16573886639677 38.41732165423689, -110.43901821862349 38.41732165423689, -110.49367408906883 39.1005200348037)))')\n",
    "\n",
    "SATELLITE_CACHE_FOLDER = os.getenv('SENTINEL2_CACHE', os.path.join(\"code\", \"sentinel_cache\", \"landcover_dataset\"))\n",
    "OUTPUT_FOLDER = os.getenv('OUTPUT_FOLDER', os.path.join(\"code\", \"results\", \"landcover\"))"
   ]
  },
  {
   "cell_type": "code",
   "execution_count": null,
   "metadata": {},
   "outputs": [],
   "source": [
    "polygon = shapely.wkt.loads(AOI)\n",
    "aoi_filename = f\"{time.time()}_aoi.geojson\"\n",
    "gpd.GeoDataFrame(\n",
    "    gpd.GeoSeries([polygon]),\n",
    "    columns=[\"geometry\"]).to_file(aoi_filename, driver=\"GeoJSON\")\n",
    "\n",
    "aoi = gpd.read_file(aoi_filename)"
   ]
  },
  {
   "cell_type": "code",
   "execution_count": null,
   "metadata": {},
   "outputs": [],
   "source": [
    "tile_idx = get_tiles(aoi_filename, \"sentinel2grid.geojson\")\n",
    "\n",
    "start_year = int(START_DATE.split(\"-\")[0])\n",
    "end_year = int(END_DATE.split(\"-\")[0])\n",
    "\n",
    "date_range = range(2017, 2022)\n",
    "\n",
    "if end_year in date_range:\n",
    "    year = end_year\n",
    "elif start_year in date_range:\n",
    "    year = start_year\n",
    "else:\n",
    "    year = max(list(date_range))"
   ]
  },
  {
   "cell_type": "code",
   "execution_count": null,
   "metadata": {},
   "outputs": [],
   "source": [
    "year"
   ]
  },
  {
   "cell_type": "code",
   "execution_count": null,
   "metadata": {},
   "outputs": [],
   "source": [
    "files = []\n",
    "landcover_dataset_path = os.path.join(SATELLITE_CACHE_FOLDER, \"landcover_dataset\")\n",
    "os.makedirs(landcover_dataset_path, exist_ok=True)\n",
    "\n",
    "for tile_i in tile_idx.tileID:\n",
    "    tile_i = tile_i if len(tile_i) < 4 else tile_i[:3]\n",
    "    tile_url = f\"https://lulctimeseries.blob.core.windows.net/lulctimeseriespublic/lc{year}/{tile_i}_{year}0101-{year+1}0101.tif\"\n",
    "    path = os.path.join(landcover_dataset_path, os.path.basename(tile_url))\n",
    "    if not os.path.exists(path):\n",
    "        urllib.request.urlretrieve(tile_url, path)\n",
    "    files.append(path)\n",
    "    \n",
    "files"
   ]
  },
  {
   "cell_type": "code",
   "execution_count": null,
   "metadata": {},
   "outputs": [],
   "source": [
    "class_names = {\n",
    "    1: \"Water\",\n",
    "    2: \"Trees\",\n",
    "    4: \"Flooded vegetation\",\n",
    "    5: \"Crops\",\n",
    "    7: \"Built Area\",\n",
    "    8: \"Bare ground\",\n",
    "    9: \"Snow/Ice\",\n",
    "    10: \"Clouds\",\n",
    "    11: \"Rangeland\"\n",
    "}"
   ]
  },
  {
   "cell_type": "code",
   "execution_count": null,
   "metadata": {},
   "outputs": [],
   "source": [
    "if len(files) > 1:\n",
    "    try:\n",
    "        raster_path = merge_tiles(\n",
    "            files, os.path.join(SATELLITE_CACHE_FOLDER, \"aoi_raster.tif\"))\n",
    "    except Exception:\n",
    "        raster_path = stitch_tiles(\n",
    "            files, os.path.join(SATELLITE_CACHE_FOLDER, \"aoi_raster.tif\"))\n",
    "else:\n",
    "    raster_path = files[0]"
   ]
  },
  {
   "cell_type": "code",
   "execution_count": null,
   "metadata": {},
   "outputs": [],
   "source": [
    "raster_path = crop_raster(\n",
    "    raster_path,\n",
    "    aoi_filename,\n",
    "    raster_path.replace(\".tif\", \"_crop.tif\"),\n",
    "    additional_meta={\n",
    "        \"START_DATE\": f\"{year}-01-01\",\n",
    "        \"END_DATE\": f\"{year+1}-01-01\",\n",
    "        \"NAME\": \"Landcover classification\"})\n",
    "\n",
    "with rasterio.open(raster_path) as src:\n",
    "    img = src.read(1)\n",
    "    mask = src.read_masks(1)\n",
    "    profile = src.profile"
   ]
  },
  {
   "cell_type": "code",
   "execution_count": null,
   "metadata": {},
   "outputs": [],
   "source": [
    "NUM_CLASSES = len(class_names)\n",
    "arr = np.array(range(0, NUM_CLASSES)) / NUM_CLASSES\n",
    "colors = plt.cm.jet(arr)\n",
    "colors[0] = (0,0,0,1)\n",
    "\n",
    "labels = []\n",
    "\n",
    "for label, name in enumerate(class_names):\n",
    "    class_area = len(img[img == label]) / 10 ** 4\n",
    "    # convert list of float values into string representing color\n",
    "    class_color = \",\".join(list(map(lambda x: str(int(x)), colors[label][:-1] * 255)))\n",
    "    if class_area != 0:\n",
    "        labels.append({\n",
    "            \"color\": class_color, \n",
    "            \"name\": class_names[name],\n",
    "            \"area\": class_area\n",
    "        })\n",
    "    else:\n",
    "        labels.append({\n",
    "            \"color\": class_color, \n",
    "            \"name\": \"Other\" if name not in class_names.keys() else class_names[name],\n",
    "            \"area\": 0.0\n",
    "        })\n",
    "labels = json.dumps(labels)\n",
    "labels"
   ]
  },
  {
   "cell_type": "code",
   "execution_count": null,
   "metadata": {},
   "outputs": [],
   "source": [
    "os.makedirs(OUTPUT_FOLDER, exist_ok=True)\n",
    "\n",
    "NUM_CLASSES = 11\n",
    "nodata = 0\n",
    "mask = mask.astype(bool)\n",
    "scaled = img.astype(np.float32) / NUM_CLASSES\n",
    "scaled = (plt.cm.jet(scaled)[:,:,:-1] * 255)\n",
    "scaled[mask[:,:,np.newaxis] & (scaled==0)] += 1\n",
    "scaled = np.clip(scaled, 0, 255).astype(np.uint8)\n",
    "# Set pixels with invalid pixels to new nodata value\n",
    "scaled[~mask] = nodata\n",
    "# Set pixels with background class(0) to new nodata value\n",
    "scaled[img==0] = nodata\n",
    "\n",
    "profile.update(\n",
    "    count=3,\n",
    "    nodata=nodata,\n",
    "    compress='lzw'\n",
    ")\n",
    "colored_tif = os.path.join(OUTPUT_FOLDER, f\"{START_DATE}_{END_DATE}.tif\")\n",
    "\n",
    "with rasterio.open(colored_tif, 'w', **profile) as dst:\n",
    "    dst.update_tags(start_date=START_DATE, \n",
    "                    end_date=END_DATE, \n",
    "                    labels=labels,\n",
    "                    name=\"Landcover\")\n",
    "    for i in range(scaled.shape[-1]):\n",
    "        dst.write(scaled[:,:,i], indexes=i+1)"
   ]
  },
  {
   "cell_type": "code",
   "execution_count": null,
   "metadata": {},
   "outputs": [],
   "source": [
    "os.remove(raster_path)\n",
    "os.remove(aoi_filename)"
   ]
  },
  {
   "cell_type": "code",
   "execution_count": null,
   "metadata": {},
   "outputs": [],
   "source": []
  }
 ],
 "metadata": {
  "kernelspec": {
   "display_name": "Python 3.11.0 64-bit",
   "language": "python",
   "name": "python3"
  },
  "language_info": {
   "codemirror_mode": {
    "name": "ipython",
    "version": 3
   },
   "file_extension": ".py",
   "mimetype": "text/x-python",
   "name": "python",
   "nbconvert_exporter": "python",
   "pygments_lexer": "ipython3",
   "version": "3.11.0"
  },
  "vscode": {
   "interpreter": {
    "hash": "aee8b7b246df8f9039afb4144a1f6fd8d2ca17a180786b69acc140d282b71a49"
   }
  }
 },
 "nbformat": 4,
 "nbformat_minor": 4
}
