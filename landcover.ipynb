{
 "cells": [
  {
   "cell_type": "code",
   "execution_count": 1,
   "metadata": {},
   "outputs": [],
   "source": [
    "# AOI = 'POLYGON ((-85.299088 40.339368, -85.332047 40.241477, -85.134979 40.229427, -85.157639 40.34146, -85.299088 40.339368))'\n",
    "AOI = \"MULTIPOLYGON (((-110.49367408906883 39.1005200348037, -110.20673076923077 39.1005200348037, -110.16573886639677 38.41732165423689, -110.43901821862349 38.41732165423689, -110.49367408906883 39.1005200348037)))\"\n",
    "START_DATE = \"2020-05-01\"\n",
    "END_DATE = \"2020-06-30\"\n",
    "\n",
    "REQUEST_ID = '0'"
   ]
  },
  {
   "cell_type": "code",
   "execution_count": 2,
   "metadata": {},
   "outputs": [],
   "source": [
    "import os\n",
    "import json\n",
    "import time\n",
    "import shutil\n",
    "import rasterio\n",
    "import rasterio.mask as riomask\n",
    "import shapely\n",
    "import requests\n",
    "import pandas as pd\n",
    "import numpy as np\n",
    "import geopandas as gpd\n",
    "import matplotlib.pylab as plt\n",
    "\n",
    "from utils import crop_raster, merge_tiles, get_tiles\n",
    "\n",
    "import warnings\n",
    "warnings.filterwarnings('ignore')"
   ]
  },
  {
   "cell_type": "code",
   "execution_count": 13,
   "metadata": {},
   "outputs": [],
   "source": [
    "NAME = \"Fields' boundaries\"\n",
    "NB_USER = os.getenv('NB_USER')\n",
    "# NB_USER = \"quantum\"\n",
    "BASE = os.getcwd()\n",
    "DATA_DIR = f\"/home/{NB_USER}/work/jupyter/Landcover\"\n",
    "\n",
    "LOAD_DIR = os.path.join(DATA_DIR, \"satellite_imagery\")\n",
    "RESULTS_DIR = os.path.join(DATA_DIR, \"results/landcover\")"
   ]
  },
  {
   "cell_type": "code",
   "execution_count": 4,
   "metadata": {},
   "outputs": [],
   "source": [
    "default_crs = 'EPSG:4326'\n",
    "polygon = shapely.wkt.loads(AOI)\n",
    "aoi_filename = f\"{time.time()}_aoi.geojson\"\n",
    "gpd.GeoDataFrame(\n",
    "    gpd.GeoSeries([polygon]),\n",
    "    columns=[\"geometry\"]).to_file(aoi_filename, driver=\"GeoJSON\")\n",
    "aoi = gpd.read_file(aoi_filename)"
   ]
  },
  {
   "cell_type": "code",
   "execution_count": 5,
   "metadata": {},
   "outputs": [
    {
     "data": {
      "text/plain": [
       "['/home/quantum/work/jupyter/Landcover/landcover_dataset/12S_20210101-20220101.tif',\n",
       " '/home/quantum/work/jupyter/Landcover/landcover_dataset/12S_20210101-20220101.tif']"
      ]
     },
     "execution_count": 5,
     "metadata": {},
     "output_type": "execute_result"
    }
   ],
   "source": [
    "import urllib.request\n",
    "\n",
    "sentinel_tiles_path = os.path.join(DATA_DIR, \"sentinel2grid.geojson\")\n",
    "# sentinel_tiles_path = \"sentinel2grid.geojson\"\n",
    "tile_idx = get_tiles(aoi_filename, sentinel_tiles_path)\n",
    "year = int(START_DATE.split(\"-\")[0])\n",
    "\n",
    "files = []\n",
    "data_dir = f\"{DATA_DIR}/landcover_dataset\"\n",
    "os.makedirs(data_dir, exist_ok=True)\n",
    "\n",
    "for tile_i in tile_idx.tileID:\n",
    "    tile_i = tile_i if len(tile_i) < 4 else tile_i[:3]\n",
    "    # https://lulctimeseries.blob.core.windows.net/lulctimeseriespublic/lc2018/40S_20180101-20190101.tif\n",
    "    tile_url = f\"https://lulctimeseries.blob.core.windows.net/lulctimeseriespublic/lc{year-1}/{tile_i}_{year-1}0101-{year}0101.tif\"\n",
    "    path = f\"{data_dir}/{tile_i}_20210101-20220101.tif\"\n",
    "    if not os.path.exists(path):\n",
    "        urllib.request.urlretrieve(tile_url, path)\n",
    "    files.append(path)\n",
    "    \n",
    "files"
   ]
  },
  {
   "cell_type": "code",
   "execution_count": 6,
   "metadata": {},
   "outputs": [],
   "source": [
    "class_names = {\n",
    "    1: \"Water\",\n",
    "    2: \"Trees\",\n",
    "    4: \"Flooded vegetation\",\n",
    "    5: \"Crops\",\n",
    "    7: \"Built Area\",\n",
    "    8: \"Bare ground\",\n",
    "    9: \"Snow/Ice\",\n",
    "    10: \"Clouds\",\n",
    "    11: \"Rangeland\"\n",
    "}"
   ]
  },
  {
   "cell_type": "code",
   "execution_count": 7,
   "metadata": {},
   "outputs": [
    {
     "name": "stdout",
     "output_type": "stream",
     "text": [
      "Start merging to /home/quantum/work/jupyter/Landcover/landcover_dataset/aoi_raster.tif\n",
      "Copying color table from /home/quantum/work/jupyter/Landcover/landcover_dataset/12S_20210101-20220101.tif to new file.\n",
      "Creating output file that is 59575P x 89711L.\n",
      "Processing /home/quantum/work/jupyter/Landcover/landcover_dataset/12S_20210101-20220101.tif [1/2] : 0Using internal nodata values (e.g. 0) for image /home/quantum/work/jupyter/Landcover/landcover_dataset/12S_20210101-20220101.tif.\n",
      "Copying nodata values from source /home/quantum/work/jupyter/Landcover/landcover_dataset/12S_20210101-20220101.tif to destination /home/quantum/work/jupyter/Landcover/landcover_dataset/aoi_raster.tif.\n",
      "...10...20...30...40...50...60...70...80...90...100 - done.\n",
      "Processing /home/quantum/work/jupyter/Landcover/landcover_dataset/12S_20210101-20220101.tif [2/2] : 0Using internal nodata values (e.g. 0) for image /home/quantum/work/jupyter/Landcover/landcover_dataset/12S_20210101-20220101.tif.\n",
      "...10...20...30...40...50...60...70...80...90...100 - done.\n",
      "601.1744322776794 seconds for merging 2 images in to /home/quantum/work/jupyter/Landcover/landcover_dataset/aoi_raster.tif\n"
     ]
    }
   ],
   "source": [
    "if len(files) > 1:\n",
    "    raster_path = merge_tiles(\n",
    "        files, os.path.join(data_dir, \"aoi_raster.tif\"))\n",
    "else:\n",
    "    raster_path = files[0]"
   ]
  },
  {
   "cell_type": "code",
   "execution_count": 9,
   "metadata": {},
   "outputs": [],
   "source": [
    "raster_path = crop_raster(raster_path, aoi_filename, raster_path.replace(\".tif\", \"_crop.tif\"))\n",
    "\n",
    "with rasterio.open(raster_path) as src:\n",
    "    img = src.read(1)\n",
    "    mask = src.read_masks(1)\n",
    "    profile = src.profile"
   ]
  },
  {
   "cell_type": "code",
   "execution_count": 10,
   "metadata": {},
   "outputs": [
    {
     "data": {
      "text/plain": [
       "'[{\"color\": \"0,0,0\", \"name\": \"Water\", \"area\": 338.723}, {\"color\": \"0,0,254\", \"name\": \"Trees\", \"area\": 0.0917}, {\"color\": \"0,96,255\", \"name\": \"Flooded vegetation\", \"area\": 0.1425}, {\"color\": \"0,212,255\", \"name\": 5}, {\"color\": \"76,255,170\", \"name\": \"Built Area\", \"area\": 0.127}, {\"color\": \"170,255,76\", \"name\": 8}, {\"color\": \"255,229,0\", \"name\": 9}, {\"color\": \"255,122,0\", \"name\": 10}, {\"color\": \"254,18,0\", \"name\": \"Rangeland\", \"area\": 155.558}]'"
      ]
     },
     "execution_count": 10,
     "metadata": {},
     "output_type": "execute_result"
    }
   ],
   "source": [
    "NUM_CLASSES = len(class_names)\n",
    "arr = np.array(range(0, NUM_CLASSES)) / NUM_CLASSES\n",
    "colors = plt.cm.jet(arr)\n",
    "colors[0] = (0,0,0,1)\n",
    "\n",
    "labels = []\n",
    "\n",
    "for label, name in enumerate(class_names):\n",
    "#     print(label)\n",
    "    class_area = len(img[img == label]) / 10 ** 4\n",
    "    # convert list of float values into string representing color\n",
    "    class_color = \",\".join(list(map(lambda x: str(int(x)), colors[label][:-1] * 255)))\n",
    "    if class_area != 0:\n",
    "        labels.append({\n",
    "            \"color\": class_color, \n",
    "            \"name\": class_names[name],\n",
    "            \"area\": class_area\n",
    "        })\n",
    "    else:\n",
    "        labels.append({\n",
    "            \"color\": class_color, \n",
    "            \"name\": name\n",
    "        })\n",
    "labels = json.dumps(labels)\n",
    "labels"
   ]
  },
  {
   "cell_type": "code",
   "execution_count": 11,
   "metadata": {},
   "outputs": [],
   "source": [
    "os.remove(aoi_filename)"
   ]
  },
  {
   "cell_type": "code",
   "execution_count": 14,
   "metadata": {},
   "outputs": [],
   "source": [
    "# NB_USER = os.getenv('NB_USER')\n",
    "os.makedirs(f\"/home/{NB_USER}/work/results/landcover\", exist_ok=True)\n",
    "tile_name = f\"{REQUEST_ID}_{START_DATE}_{END_DATE}.tif\""
   ]
  },
  {
   "cell_type": "code",
   "execution_count": 15,
   "metadata": {},
   "outputs": [
    {
     "data": {
      "text/plain": [
       "'/home/quantum/work/results/landcover/0_2020-05-01_2020-06-30.tif'"
      ]
     },
     "execution_count": 15,
     "metadata": {},
     "output_type": "execute_result"
    }
   ],
   "source": [
    "shutil.move(\n",
    "    raster_path, f\"/home/{NB_USER}/work/results/landcover/{tile_name}\")"
   ]
  },
  {
   "cell_type": "code",
   "execution_count": null,
   "metadata": {},
   "outputs": [],
   "source": []
  }
 ],
 "metadata": {
  "kernelspec": {
   "display_name": "Python 3",
   "language": "python",
   "name": "python3"
  },
  "language_info": {
   "codemirror_mode": {
    "name": "ipython",
    "version": 3
   },
   "file_extension": ".py",
   "mimetype": "text/x-python",
   "name": "python",
   "nbconvert_exporter": "python",
   "pygments_lexer": "ipython3",
   "version": "3.9.7"
  }
 },
 "nbformat": 4,
 "nbformat_minor": 4
}
