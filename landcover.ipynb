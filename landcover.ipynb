{
 "cells": [
  {
   "cell_type": "code",
   "execution_count": null,
   "metadata": {},
   "outputs": [],
   "source": [
    "# AOI = 'POLYGON ((-85.299088 40.339368, -85.332047 40.241477, -85.134979 40.229427, -85.157639 40.34146, -85.299088 40.339368))'\n",
    "AOI = \"MULTIPOLYGON (((-110.49367408906883 39.1005200348037, -110.20673076923077 39.1005200348037, -110.16573886639677 38.41732165423689, -110.43901821862349 38.41732165423689, -110.49367408906883 39.1005200348037)))\"\n",
    "START_DATE = \"2022-05-01\"\n",
    "END_DATE = \"2022-06-30\"\n",
    "\n",
    "REQUEST_ID = '0'"
   ]
  },
  {
   "cell_type": "code",
   "execution_count": null,
   "metadata": {},
   "outputs": [],
   "source": [
    "import os\n",
    "import json\n",
    "import time\n",
    "import shutil\n",
    "import rasterio\n",
    "import rasterio.mask as riomask\n",
    "import shapely\n",
    "import requests\n",
    "import pandas as pd\n",
    "import numpy as np\n",
    "import geopandas as gpd\n",
    "import matplotlib.pylab as plt\n",
    "\n",
    "from utils import crop_raster, merge_tiles, get_tiles\n",
    "\n",
    "import warnings\n",
    "warnings.filterwarnings('ignore')"
   ]
  },
  {
   "cell_type": "code",
   "execution_count": null,
   "metadata": {},
   "outputs": [],
   "source": [
    "NAME = \"Fields' boundaries\"\n",
    "NB_USER = os.getenv('NB_USER')\n",
    "# NB_USER = \"quantum\"\n",
    "BASE = os.getcwd()\n",
    "DATA_DIR = f\"/home/{NB_USER}/work/jupyter/Landcover\"\n",
    "\n",
    "LOAD_DIR = os.path.join(DATA_DIR, \"satellite_imagery\")\n",
    "RESULTS_DIR = os.path.join(DATA_DIR, \"results/landcover\")"
   ]
  },
  {
   "cell_type": "code",
   "execution_count": null,
   "metadata": {},
   "outputs": [],
   "source": [
    "default_crs = 'EPSG:4326'\n",
    "polygon = shapely.wkt.loads(AOI)\n",
    "aoi_filename = f\"{time.time()}_aoi.geojson\"\n",
    "gpd.GeoDataFrame(\n",
    "    gpd.GeoSeries([polygon]),\n",
    "    columns=[\"geometry\"]).to_file(aoi_filename, driver=\"GeoJSON\")\n",
    "aoi = gpd.read_file(aoi_filename)"
   ]
  },
  {
   "cell_type": "code",
   "execution_count": null,
   "metadata": {},
   "outputs": [],
   "source": [
    "import urllib.request\n",
    "\n",
    "sentinel_tiles_path = os.path.join(DATA_DIR, \"sentinel2grid.geojson\")\n",
    "# sentinel_tiles_path = \"sentinel2grid.geojson\"\n",
    "tile_idx = get_tiles(aoi_filename, sentinel_tiles_path)\n",
    "year = int(START_DATE.split(\"-\")[0])\n",
    "\n",
    "if year >= 2022:\n",
    "    year = 2021\n",
    "elif year < 2018:\n",
    "    year = 2018\n",
    "year"
   ]
  },
  {
   "cell_type": "code",
   "execution_count": null,
   "metadata": {},
   "outputs": [],
   "source": [
    "files = []\n",
    "data_dir = f\"{DATA_DIR}/landcover_dataset\"\n",
    "os.makedirs(data_dir, exist_ok=True)\n",
    "\n",
    "for tile_i in tile_idx.tileID:\n",
    "    tile_i = tile_i if len(tile_i) < 4 else tile_i[:3]\n",
    "    # https://lulctimeseries.blob.core.windows.net/lulctimeseriespublic/lc2018/40S_20180101-20190101.tif\n",
    "    tile_url = f\"https://lulctimeseries.blob.core.windows.net/lulctimeseriespublic/lc{year-1}/{tile_i}_{year-1}0101-{year}0101.tif\"\n",
    "    path = f\"{data_dir}/{tile_i}_{year-1}0101-{year}0101.tif\"\n",
    "    if not os.path.exists(path):\n",
    "        urllib.request.urlretrieve(tile_url, path)\n",
    "    files.append(path)\n",
    "    \n",
    "files"
   ]
  },
  {
   "cell_type": "code",
   "execution_count": null,
   "metadata": {},
   "outputs": [],
   "source": [
    "class_names = {\n",
    "    1: \"Water\",\n",
    "    2: \"Trees\",\n",
    "    4: \"Flooded vegetation\",\n",
    "    5: \"Crops\",\n",
    "    7: \"Built Area\",\n",
    "    8: \"Bare ground\",\n",
    "    9: \"Snow/Ice\",\n",
    "    10: \"Clouds\",\n",
    "    11: \"Rangeland\"\n",
    "}"
   ]
  },
  {
   "cell_type": "code",
   "execution_count": null,
   "metadata": {},
   "outputs": [],
   "source": [
    "if len(files) > 1:\n",
    "    raster_path = merge_tiles(\n",
    "        files, os.path.join(data_dir, \"aoi_raster.tif\"))\n",
    "else:\n",
    "    raster_path = files[0]"
   ]
  },
  {
   "cell_type": "code",
   "execution_count": null,
   "metadata": {},
   "outputs": [],
   "source": [
    "raster_path = crop_raster(raster_path, aoi_filename, raster_path.replace(\".tif\", \"_crop.tif\"))\n",
    "\n",
    "with rasterio.open(raster_path) as src:\n",
    "    img = src.read(1)\n",
    "    mask = src.read_masks(1)\n",
    "    profile = src.profile"
   ]
  },
  {
   "cell_type": "code",
   "execution_count": null,
   "metadata": {},
   "outputs": [],
   "source": [
    "NUM_CLASSES = len(class_names)\n",
    "arr = np.array(range(0, NUM_CLASSES)) / NUM_CLASSES\n",
    "colors = plt.cm.jet(arr)\n",
    "colors[0] = (0,0,0,1)\n",
    "\n",
    "labels = []\n",
    "\n",
    "for label, name in enumerate(class_names):\n",
    "#     print(label)\n",
    "    class_area = len(img[img == label]) / 10 ** 4\n",
    "    # convert list of float values into string representing color\n",
    "    class_color = \",\".join(list(map(lambda x: str(int(x)), colors[label][:-1] * 255)))\n",
    "    if class_area != 0:\n",
    "        labels.append({\n",
    "            \"color\": class_color, \n",
    "            \"name\": class_names[name],\n",
    "            \"area\": class_area\n",
    "        })\n",
    "    else:\n",
    "        labels.append({\n",
    "            \"color\": class_color, \n",
    "            \"name\": name\n",
    "        })\n",
    "labels = json.dumps(labels)\n",
    "labels"
   ]
  },
  {
   "cell_type": "code",
   "execution_count": null,
   "metadata": {},
   "outputs": [],
   "source": [
    "os.remove(aoi_filename)"
   ]
  },
  {
   "cell_type": "code",
   "execution_count": null,
   "metadata": {},
   "outputs": [],
   "source": [
    "# NB_USER = os.getenv('NB_USER')\n",
    "os.makedirs(f\"/home/{NB_USER}/work/results/landcover\", exist_ok=True)\n",
    "tile_name = f\"{REQUEST_ID}_{START_DATE}_{END_DATE}.tif\""
   ]
  },
  {
   "cell_type": "code",
   "execution_count": null,
   "metadata": {},
   "outputs": [],
   "source": [
    "shutil.move(\n",
    "    raster_path, f\"/home/{NB_USER}/work/results/landcover/{tile_name}\")"
   ]
  },
  {
   "cell_type": "code",
   "execution_count": null,
   "metadata": {},
   "outputs": [],
   "source": []
  }
 ],
 "metadata": {
  "kernelspec": {
   "display_name": "Python 3",
   "language": "python",
   "name": "python3"
  },
  "language_info": {
   "codemirror_mode": {
    "name": "ipython",
    "version": 3
   },
   "file_extension": ".py",
   "mimetype": "text/x-python",
   "name": "python",
   "nbconvert_exporter": "python",
   "pygments_lexer": "ipython3",
   "version": "3.9.7"
  }
 },
 "nbformat": 4,
 "nbformat_minor": 4
}
