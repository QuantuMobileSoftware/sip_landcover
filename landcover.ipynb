{
 "cells": [
  {
   "cell_type": "code",
   "execution_count": null,
   "metadata": {},
   "outputs": [],
   "source": [
    "AOI = \"MULTIPOLYGON (((-110.49367408906883 39.1005200348037, -110.20673076923077 39.1005200348037, -110.16573886639677 38.41732165423689, -110.43901821862349 38.41732165423689, -110.49367408906883 39.1005200348037)))\"\n",
    "START_DATE = \"2016-05-01\"\n",
    "END_DATE = \"2023-06-30\"\n",
    "\n",
    "REQUEST_ID = '0'"
   ]
  },
  {
   "cell_type": "code",
   "execution_count": null,
   "metadata": {},
   "outputs": [],
   "source": [
    "import os\n",
    "import json\n",
    "import time\n",
    "import shutil\n",
    "import rasterio\n",
    "import urllib.request\n",
    "import rasterio.mask as riomask\n",
    "import shapely\n",
    "import requests\n",
    "import pandas as pd\n",
    "import numpy as np\n",
    "import geopandas as gpd\n",
    "import matplotlib.pylab as plt\n",
    "from rasterio.merge import merge\n",
    "\n",
    "from utils import crop_raster, merge_tiles, stitch_tiles, get_tiles, transform_crs\n",
    "\n",
    "import warnings\n",
    "warnings.filterwarnings('ignore')"
   ]
  },
  {
   "cell_type": "code",
   "execution_count": null,
   "metadata": {},
   "outputs": [],
   "source": [
    "NAME = \"Landcover\"\n",
    "NB_USER = os.getenv('NB_USER')\n",
    "BASE = os.getcwd()\n",
    "DATA_DIR = f\"/home/{NB_USER}/work/jupyter/Landcover\"\n",
    "\n",
    "LOAD_DIR = os.path.join(DATA_DIR, \"satellite_imagery\")\n",
    "RESULTS_DIR = os.path.join(DATA_DIR, \"results/landcover\")"
   ]
  },
  {
   "cell_type": "code",
   "execution_count": null,
   "metadata": {},
   "outputs": [],
   "source": [
    "default_crs = 'EPSG:4326'\n",
    "polygon = shapely.wkt.loads(AOI)\n",
    "aoi_filename = f\"{time.time()}_aoi.geojson\"\n",
    "gpd.GeoDataFrame(\n",
    "    gpd.GeoSeries([polygon]),\n",
    "    columns=[\"geometry\"]).to_file(aoi_filename, driver=\"GeoJSON\")\n",
    "aoi = gpd.read_file(aoi_filename)"
   ]
  },
  {
   "cell_type": "code",
   "execution_count": null,
   "metadata": {},
   "outputs": [],
   "source": [
    "sentinel_tiles_path = os.path.join(DATA_DIR, \"sentinel2grid.geojson\")\n",
    "sentinel_tiles_path = \"sentinel2grid.geojson\"\n",
    "tile_idx = get_tiles(aoi_filename, sentinel_tiles_path)\n",
    "\n",
    "start_year = int(START_DATE.split(\"-\")[0])\n",
    "end_year = int(END_DATE.split(\"-\")[0])\n",
    "date_range = range(2017, 2022)\n",
    "\n",
    "if end_year in date_range:\n",
    "    year = end_year\n",
    "elif start_year in date_range:\n",
    "    year = start_year\n",
    "else:\n",
    "    year = max(list(date_range))"
   ]
  },
  {
   "cell_type": "code",
   "execution_count": null,
   "metadata": {},
   "outputs": [],
   "source": [
    "year"
   ]
  },
  {
   "cell_type": "code",
   "execution_count": null,
   "metadata": {},
   "outputs": [],
   "source": [
    "files = []\n",
    "data_dir = f\"{DATA_DIR}/landcover_dataset\"\n",
    "os.makedirs(data_dir, exist_ok=True)\n",
    "\n",
    "for tile_i in tile_idx.tileID:\n",
    "    tile_i = tile_i if len(tile_i) < 4 else tile_i[:3]\n",
    "    tile_url = f\"https://lulctimeseries.blob.core.windows.net/lulctimeseriespublic/lc{year}/{tile_i}_{year}0101-{year+1}0101.tif\"\n",
    "    path = f\"{data_dir}/{os.path.basename(tile_url)}\"\n",
    "    if not os.path.exists(path):\n",
    "        urllib.request.urlretrieve(tile_url, path)\n",
    "    files.append(path)\n",
    "    \n",
    "files"
   ]
  },
  {
   "cell_type": "code",
   "execution_count": null,
   "metadata": {},
   "outputs": [],
   "source": [
    "class_names = {\n",
    "    1: \"Water\",\n",
    "    2: \"Trees\",\n",
    "    4: \"Flooded vegetation\",\n",
    "    5: \"Crops\",\n",
    "    7: \"Built Area\",\n",
    "    8: \"Bare ground\",\n",
    "    9: \"Snow/Ice\",\n",
    "    10: \"Clouds\",\n",
    "    11: \"Rangeland\"\n",
    "}"
   ]
  },
  {
   "cell_type": "code",
   "execution_count": null,
   "metadata": {},
   "outputs": [],
   "source": [
    "if len(files) > 1:\n",
    "    try:\n",
    "        raster_path = merge_tiles(\n",
    "            files, os.path.join(data_dir, \"aoi_raster.tif\"))\n",
    "    except Exception:\n",
    "        raster_path = stitch_tiles(\n",
    "            files, os.path.join(data_dir, \"aoi_raster.tif\"))\n",
    "else:\n",
    "    raster_path = files[0]"
   ]
  },
  {
   "cell_type": "code",
   "execution_count": null,
   "metadata": {},
   "outputs": [],
   "source": [
    "raster_path = crop_raster(\n",
    "    raster_path,\n",
    "    aoi_filename,\n",
    "    raster_path.replace(\".tif\", \"_crop.tif\"),\n",
    "    additional_meta={\n",
    "        \"REQUEST_ID\": REQUEST_ID,\n",
    "        \"START_DATE\": f\"{year}-01-01\",\n",
    "        \"END_DATE\": f\"{year+1}-01-01\",\n",
    "        \"NAME\": \"Landcover classification\"})\n",
    "\n",
    "with rasterio.open(raster_path) as src:\n",
    "    img = src.read(1)\n",
    "    mask = src.read_masks(1)\n",
    "    profile = src.profile"
   ]
  },
  {
   "cell_type": "code",
   "execution_count": null,
   "metadata": {},
   "outputs": [],
   "source": [
    "NUM_CLASSES = len(class_names)\n",
    "arr = np.array(range(0, NUM_CLASSES)) / NUM_CLASSES\n",
    "colors = plt.cm.jet(arr)\n",
    "colors[0] = (0,0,0,1)\n",
    "\n",
    "labels = []\n",
    "\n",
    "for label, name in enumerate(class_names):\n",
    "    class_area = len(img[img == label]) / 10 ** 4\n",
    "    # convert list of float values into string representing color\n",
    "    class_color = \",\".join(list(map(lambda x: str(int(x)), colors[label][:-1] * 255)))\n",
    "    if class_area != 0:\n",
    "        labels.append({\n",
    "            \"color\": class_color, \n",
    "            \"name\": class_names[name],\n",
    "            \"area\": class_area\n",
    "        })\n",
    "    else:\n",
    "        name = \"Other\" if name not in class_names.keys() else class_names[name]\n",
    "        labels.append({\n",
    "            \"color\": class_color, \n",
    "            \"name\": name,\n",
    "            \"area\": 0.0\n",
    "        })\n",
    "labels = json.dumps(labels)\n",
    "labels"
   ]
  },
  {
   "cell_type": "code",
   "execution_count": null,
   "metadata": {},
   "outputs": [],
   "source": [
    "os.makedirs(f\"/home/{NB_USER}/work/results/landcover\", exist_ok=True)\n",
    "tile_name = f\"{REQUEST_ID}_{START_DATE}_{END_DATE}.tif\"\n",
    "\n",
    "NUM_CLASSES = 11\n",
    "nodata = 0\n",
    "mask = mask.astype(bool)\n",
    "scaled = img.astype(np.float32) / NUM_CLASSES\n",
    "scaled = (plt.cm.jet(scaled)[:,:,:-1] * 255)\n",
    "scaled[mask[:,:,np.newaxis] & (scaled==0)] += 1\n",
    "scaled = np.clip(scaled, 0, 255).astype(np.uint8)\n",
    "# Set pixels with invalid pixels to new nodata value\n",
    "scaled[~mask] = nodata\n",
    "# Set pixels with background class(0) to new nodata value\n",
    "scaled[img==0] = nodata\n",
    "\n",
    "profile.update(\n",
    "    count=3,\n",
    "    nodata=nodata,\n",
    "    compress='lzw'\n",
    ")\n",
    "colored_tif = f\"/home/{NB_USER}/work/results/landcover/{tile_name}\"\n",
    "\n",
    "with rasterio.open(colored_tif, 'w', **profile) as dst:\n",
    "    dst.update_tags(start_date=START_DATE, \n",
    "                    end_date=END_DATE, \n",
    "                    request_id=REQUEST_ID,\n",
    "                    labels=labels,\n",
    "                    name=NAME)\n",
    "    for i in range(scaled.shape[-1]):\n",
    "        dst.write(scaled[:,:,i], indexes=i+1)"
   ]
  },
  {
   "cell_type": "code",
   "execution_count": null,
   "metadata": {},
   "outputs": [],
   "source": [
    "os.remove(raster_path)\n",
    "os.remove(aoi_filename)"
   ]
  }
 ],
 "metadata": {
  "kernelspec": {
   "display_name": "Python 3",
   "language": "python",
   "name": "python3"
  },
  "language_info": {
   "codemirror_mode": {
    "name": "ipython",
    "version": 3
   },
   "file_extension": ".py",
   "mimetype": "text/x-python",
   "name": "python",
   "nbconvert_exporter": "python",
   "pygments_lexer": "ipython3",
   "version": "3.8.6"
  }
 },
 "nbformat": 4,
 "nbformat_minor": 4
}
